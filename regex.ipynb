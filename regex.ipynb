{
 "cells": [
  {
   "cell_type": "markdown",
   "metadata": {},
   "source": [
    "# Regular Expressions"
   ]
  },
  {
   "cell_type": "markdown",
   "metadata": {},
   "source": [
    "# Tasks today:\n",
    "1) <b>Importing</b> <br>\n",
    "2) <b>Using Regular Expressions</b> <br>\n",
    " &nbsp;&nbsp;&nbsp;&nbsp; a) re.compile() <br>\n",
    " &nbsp;&nbsp;&nbsp;&nbsp; b) re.match() <br>\n",
    " &nbsp;&nbsp;&nbsp;&nbsp; c) re.findall() <br>\n",
    " &nbsp;&nbsp;&nbsp;&nbsp; d) re.search() <br>\n",
    "3) <b>Sets</b> <br>\n",
    " &nbsp;&nbsp;&nbsp;&nbsp; a) Integer Ranges <br>\n",
    " &nbsp;&nbsp;&nbsp;&nbsp; b) Character Ranges <br>\n",
    "4) <b>Counting Occurences</b> <br>\n",
    " &nbsp;&nbsp;&nbsp;&nbsp; a) {x} <br>\n",
    " &nbsp;&nbsp;&nbsp;&nbsp; b) {, x} <br>\n",
    " &nbsp;&nbsp;&nbsp;&nbsp; c) {?} <br>\n",
    " &nbsp;&nbsp;&nbsp;&nbsp; d) {*} <br>\n",
    " &nbsp;&nbsp;&nbsp;&nbsp; e) {+} <br>\n",
    "5) <b>In-Class Exercise #1</b> <br>\n",
    "6) <b>Escaping Characters</b> <br>\n",
    "7) <b>Grouping</b> <br>\n",
    "8) <b>In-Class Exercise #2</b> <br>\n",
    "9) <b>Opening a File</b> <br>\n",
    " &nbsp;&nbsp;&nbsp;&nbsp; a) open() <br>\n",
    " &nbsp;&nbsp;&nbsp;&nbsp; b) with open() <br>\n",
    " &nbsp;&nbsp;&nbsp;&nbsp; c) re.match() <br>\n",
    " &nbsp;&nbsp;&nbsp;&nbsp; d) re.search() <br>\n",
    " &nbsp;&nbsp;&nbsp;&nbsp; e) Store the String in a Variable <br>\n",
    "10) <b>Regex Project</b> <br>"
   ]
  },
  {
   "cell_type": "markdown",
   "metadata": {},
   "source": [
    "### Importing <br>\n",
    "<p>Regular Expressions are universal throughout most programming languages... They are generally imported through the module 're'.</p>"
   ]
  },
  {
   "cell_type": "code",
   "execution_count": 5,
   "metadata": {},
   "outputs": [],
   "source": [
    "# import re\n",
    "import re "
   ]
  },
  {
   "cell_type": "markdown",
   "metadata": {},
   "source": [
    "### Using Regular Expressions <br>\n",
    "<p>Regular expressions give us the ability to search for patterns within text, strings, files, etc. They serve several uses, such as; security measures, searching, filtering, pattern recognition, and more...</p>"
   ]
  },
  {
   "cell_type": "markdown",
   "metadata": {},
   "source": [
    "##### RegEx Cheatsheet"
   ]
  },
  {
   "cell_type": "raw",
   "metadata": {},
   "source": [
    "########################\n",
    "# DO NOT RUN THIS CELL #\n",
    "########################\n",
    "\n",
    "a, X, 9, < -- ordinary characters just match themselves exactly.\n",
    ". (a period) -- matches any single character except newline '\\n'\n",
    "\\w -- matches a \"word\" character: a letter or digit or underbar [a-zA-Z0-9_].\n",
    "\\W -- matches any non-word character.\n",
    "\\b -- matches word boundary (in between a word character and a non word character)\n",
    "\\s -- matches a single whitespace character -- space, newline, return, tab\n",
    "\\S -- matches any non-whitespace character.\n",
    "\\t, \\n, \\r -- tab, newline, return\n",
    "\\d -- matches any numeric digit [0-9]\n",
    "\\D matches any non-numeric character.\n",
    "^ -- matches the beginning of the string, or specify omition of certain characters\n",
    "$ -- matches the end of the string\n",
    "\\ -- escapes special character.\n",
    "(x|y|z) matches exactly one of x, y or z.\n",
    "(x) in general is a remembered group. We can get the value of what matched by using the groups() method of the object returned by re.search.\n",
    "x? matches an optional x character (in other words, it matches an x zero or one times).\n",
    "x* matches x zero or more times.\n",
    "x+ matches x one or more times.\n",
    "x{m,n} matches an x character at least m times, but not more than n times.\n",
    "?: matches an expression but do not capture it. Non capturing group.\n",
    "?= matches a suffix but exclude it from capture. Positive lookahead.\n",
    "a(?=b) will match the \"a\" in \"ab\", but not the \"a\" in \"ac\"\n",
    "In other words, a(?=b) matches the \"a\" which is followed by the string 'b', without consuming what follows the a.\n",
    "?! matches if suffix is absent. Negative look ahead.\n",
    "a(?!b) will match the \"a\" in \"ac\", but not the \"a\" in \"ab\"\n",
    "?<= positive look behind\n",
    "[] matches for groupings of consecutive characters\n",
    "?<! negative look behind\n",
    "\n",
    "########################\n",
    "# DO NOT RUN THIS CELL #\n",
    "########################"
   ]
  },
  {
   "cell_type": "markdown",
   "metadata": {},
   "source": [
    "##### re.compile()"
   ]
  },
  {
   "cell_type": "code",
   "execution_count": 6,
   "metadata": {},
   "outputs": [],
   "source": [
    "# using compile, pre determines the string to be used in regular expression methods\n",
    "pattern = re.compile(r'abcd')"
   ]
  },
  {
   "cell_type": "markdown",
   "metadata": {},
   "source": [
    "##### re.match()"
   ]
  },
  {
   "cell_type": "code",
   "execution_count": 10,
   "metadata": {},
   "outputs": [
    {
     "name": "stdout",
     "output_type": "stream",
     "text": [
      "<re.Match object; span=(0, 4), match='abcd'>\n",
      "(0, 4)\n"
     ]
    },
    {
     "data": {
      "text/plain": [
       "'abcd'"
      ]
     },
     "execution_count": 10,
     "metadata": {},
     "output_type": "execute_result"
    }
   ],
   "source": [
    "# Only searches beginning of string\n",
    "\n",
    "match = pattern.match('abcd123')\n",
    "\n",
    "print(match)\n",
    "print(match.span())\n",
    "start,stop = match.span() # tuple a,b =(1,2)\n",
    "'abcd123'[start:stop]"
   ]
  },
  {
   "cell_type": "code",
   "execution_count": 11,
   "metadata": {},
   "outputs": [
    {
     "name": "stdout",
     "output_type": "stream",
     "text": [
      "(0, 4)\n"
     ]
    }
   ],
   "source": [
    "match = pattern.match('abcd123 abcd 123 abcd')\n",
    "print(match.span())"
   ]
  },
  {
   "cell_type": "markdown",
   "metadata": {},
   "source": [
    "##### re.findall()"
   ]
  },
  {
   "cell_type": "code",
   "execution_count": 14,
   "metadata": {},
   "outputs": [
    {
     "name": "stdout",
     "output_type": "stream",
     "text": [
      "['abcd', 'abcd', 'abcd']\n",
      "['abcd', 'abcd', 'abcd']\n"
     ]
    }
   ],
   "source": [
    "# return a list\n",
    "finders = pattern.findall('123abcd abcd123 abcd abcabc acb')\n",
    "\n",
    "print(finders)\n",
    "print(finders)"
   ]
  },
  {
   "cell_type": "markdown",
   "metadata": {},
   "source": [
    "##### re.search()"
   ]
  },
  {
   "cell_type": "code",
   "execution_count": 19,
   "metadata": {},
   "outputs": [
    {
     "name": "stdout",
     "output_type": "stream",
     "text": [
      "<re.Match object; span=(12, 16), match='abcd'>\n",
      "12\n",
      "16\n",
      "(12, 16)\n",
      "abcd\n"
     ]
    }
   ],
   "source": [
    "random_string = '123 123 234 abcd abc abc acb'\n",
    "\n",
    "search = pattern.search(random_string)\n",
    "print(search)\n",
    "print(search.start())\n",
    "print(search.end())\n",
    "print(search.span())\n",
    "print(random_string[search.start():search.end()])"
   ]
  },
  {
   "cell_type": "markdown",
   "metadata": {},
   "source": [
    "### Sets <br>\n",
    "<p>The following cells will allow you to use regular expressions to search for certain values within a range such as numbers 1 through 4.</p>"
   ]
  },
  {
   "cell_type": "markdown",
   "metadata": {},
   "source": [
    "##### [a-z] or [A-Z] - any lowercase/uppercase letters from a to z<br/>[^2] - anything that's not 2"
   ]
  },
  {
   "cell_type": "markdown",
   "metadata": {},
   "source": [
    "##### Integer Ranges"
   ]
  },
  {
   "cell_type": "code",
   "execution_count": 22,
   "metadata": {
    "scrolled": true
   },
   "outputs": [
    {
     "name": "stdout",
     "output_type": "stream",
     "text": [
      "(0, 2)\n",
      "67\n"
     ]
    }
   ],
   "source": [
    "pattern_int = re.compile(r'[0-7][7-9]')\n",
    "# Any number 0-7 followed by any number 7-9\n",
    "\n",
    "random_number = pattern_int.match('67383')\n",
    "span = random_number.span()\n",
    "print(span)\n",
    "print(random_number[span[0]])"
   ]
  },
  {
   "cell_type": "code",
   "execution_count": 24,
   "metadata": {},
   "outputs": [
    {
     "name": "stdout",
     "output_type": "stream",
     "text": [
      "['67', '38']\n"
     ]
    }
   ],
   "source": [
    "random_number = pattern_int.findall('67383')\n",
    "print(random_number)"
   ]
  },
  {
   "cell_type": "markdown",
   "metadata": {},
   "source": [
    "##### Character Ranges"
   ]
  },
  {
   "cell_type": "code",
   "execution_count": 27,
   "metadata": {},
   "outputs": [
    {
     "name": "stdout",
     "output_type": "stream",
     "text": [
      "['He', 'Th', 'Mr', 'An', 'So']\n"
     ]
    }
   ],
   "source": [
    "pattern_char = re.compile(r'[A-Z][a-z]')\n",
    "found_count = pattern_char.findall(\"Hello There Mr. AnderSon\")\n",
    "print(found_count)"
   ]
  },
  {
   "cell_type": "markdown",
   "metadata": {},
   "source": [
    "### Counting Occurences"
   ]
  },
  {
   "cell_type": "markdown",
   "metadata": {},
   "source": [
    "##### {x} - something that occurs {num_of_times}"
   ]
  },
  {
   "cell_type": "code",
   "execution_count": 29,
   "metadata": {},
   "outputs": [
    {
     "name": "stdout",
     "output_type": "stream",
     "text": [
      "['An33', 'Nw31']\n"
     ]
    }
   ],
   "source": [
    "char_pattern_count = re.compile(r'[A-Z][a-z][0-3]{2}')\n",
    "found_count = char_pattern_count.findall('Hello My25. An33derson Nw31')\n",
    "print(found_count)"
   ]
  },
  {
   "cell_type": "markdown",
   "metadata": {},
   "source": [
    "##### {x, x} - something that occurs between x and x times"
   ]
  },
  {
   "cell_type": "code",
   "execution_count": 30,
   "metadata": {},
   "outputs": [
    {
     "name": "stdout",
     "output_type": "stream",
     "text": [
      "['m', 'm', 'm', 'mmm', 'mmmmm', 'mmmmm', 'm']\n"
     ]
    }
   ],
   "source": [
    "random_pattern = re.compile(r'm{1,5}')\n",
    "test_string = \"This is an example of a regular expression trying to find one m, more than one mmm or 5 mmmmms but not 6 mmmmmm\"\n",
    "random_statement = random_pattern.findall(test_string)\n",
    "print(random_statement)"
   ]
  },
  {
   "cell_type": "markdown",
   "metadata": {},
   "source": [
    "##### ? - something that occurs 0 or 1 time"
   ]
  },
  {
   "cell_type": "code",
   "execution_count": 31,
   "metadata": {},
   "outputs": [
    {
     "name": "stdout",
     "output_type": "stream",
     "text": [
      "['M', 'Ms', 'Ms']\n"
     ]
    }
   ],
   "source": [
    "pattern = re.compile(r'Ms?')\n",
    "my_string = \"Hello There Mr Anderson, how is Ms. Anderson? excuse me I mean Msss?\"\n",
    "found = pattern.findall(my_string)\n",
    "print(found)"
   ]
  },
  {
   "cell_type": "markdown",
   "metadata": {},
   "source": [
    "##### * - something that occurs at least 0 times"
   ]
  },
  {
   "cell_type": "code",
   "execution_count": 32,
   "metadata": {},
   "outputs": [
    {
     "name": "stdout",
     "output_type": "stream",
     "text": [
      "['M', 'M', 'M', 'Ms', 'Msssssss']\n"
     ]
    }
   ],
   "source": [
    "pattern = re.compile(r'Ms*')\n",
    "my_string = \"MMMY name is Ms. Smith. This is Msssssss\"\n",
    "found = pattern.findall(my_string)\n",
    "print(found)"
   ]
  },
  {
   "cell_type": "markdown",
   "metadata": {},
   "source": [
    "##### + - something that occurs at least once"
   ]
  },
  {
   "cell_type": "code",
   "execution_count": 36,
   "metadata": {
    "scrolled": true
   },
   "outputs": [
    {
     "name": "stdout",
     "output_type": "stream",
     "text": [
      "['Ms', 'MMMMMMMMs']\n"
     ]
    }
   ],
   "source": [
    "pattern = re.compile(r'M+s')\n",
    "my_string = \"My Name is Ms. Smith. this is MMMMMMMMsssssssss\"\n",
    "found = pattern.findall(my_string)\n",
    "print(found)"
   ]
  },
  {
   "cell_type": "code",
   "execution_count": 37,
   "metadata": {},
   "outputs": [
    {
     "name": "stdout",
     "output_type": "stream",
     "text": [
      "['Ms', 'MMMMMMMMsssssssss']\n"
     ]
    }
   ],
   "source": [
    "pattern = re.compile(r'M+s+')\n",
    "my_string = \"My Name is Ms. Smith. this is MMMMMMMMsssssssss\"\n",
    "found = pattern.findall(my_string)\n",
    "print(found)"
   ]
  },
  {
   "cell_type": "markdown",
   "metadata": {},
   "source": [
    "##### In-class exercise 1: \n",
    "\n",
    "Use a regular expression to find every number in the given string"
   ]
  },
  {
   "cell_type": "code",
   "execution_count": 39,
   "metadata": {},
   "outputs": [
    {
     "name": "stdout",
     "output_type": "stream",
     "text": [
      "['10909090', '1', '2']\n"
     ]
    }
   ],
   "source": [
    "my_string = \"This string has 10909090 numbers, but it is only 1 string. I hope you solve this 2day.\"\n",
    "pattern_practice = re.compile(r'[0-9]+')\n",
    "\n",
    "how_many = pattern_practice.findall(my_string)\n",
    "print(how_many)"
   ]
  },
  {
   "cell_type": "markdown",
   "metadata": {},
   "source": [
    "### Escaping Characters"
   ]
  },
  {
   "cell_type": "markdown",
   "metadata": {},
   "source": [
    "##### \\w - look for any Unicode character<br/>\\W - look for anything that isnt a Unicode character\n",
    "\n",
    "[History on Unicode](http://unicode.org/standard/WhatIsUnicode.html)\n",
    "\n",
    "[More on Unicode Characters](https://en.wikipedia.org/wiki/List_of_Unicode_characters)"
   ]
  },
  {
   "cell_type": "code",
   "execution_count": 42,
   "metadata": {},
   "outputs": [
    {
     "name": "stdout",
     "output_type": "stream",
     "text": [
      "['This', 'is', '1', 'sentence', 'With', 'an', 'exclamation', 'mark', 's', 'at', 'the', 'end']\n",
      "[' ', ' ', ' ', '. ', ' ', ', ', ' ', \"'\", ' ', ' ', ' ', '!']\n"
     ]
    }
   ],
   "source": [
    "# /w looking for any word unit\n",
    "# /W looking for any non-word unit\n",
    "pattern1 = re.compile('[\\w]+')\n",
    "pattern2= re.compile('[\\W]+')\n",
    "\n",
    "my_string = \"This is 1 sentence. With an, exclamation mark's at the end!\"\n",
    "\n",
    "f_1 = pattern1.findall(my_string)\n",
    "f_2= pattern2.findall(my_string)\n",
    "\n",
    "print(f_1)\n",
    "print(f_2)"
   ]
  },
  {
   "cell_type": "markdown",
   "metadata": {},
   "source": [
    "##### \\d - look for any digit 0-9<br/>\\D - look for anything that isnt a digit"
   ]
  },
  {
   "cell_type": "code",
   "execution_count": 43,
   "metadata": {},
   "outputs": [
    {
     "name": "stdout",
     "output_type": "stream",
     "text": [
      "['7th', '27th', '3rd', '1st', '30th', '00th']\n"
     ]
    }
   ],
   "source": [
    "pattern = re.compile('\\d{1,2}[a-z]{2}')\n",
    "my_string = \"Today is the 7th, in the 20 days it will be the 27th. 3rd,1st,30th for the 3000th time\"\n",
    "found = pattern.findall(my_string)\n",
    "print(found)"
   ]
  },
  {
   "cell_type": "markdown",
   "metadata": {},
   "source": [
    "##### \\s - look for any white space<br/>\\S - look for anything that isnt whitespace"
   ]
  },
  {
   "cell_type": "code",
   "execution_count": 46,
   "metadata": {},
   "outputs": [
    {
     "name": "stdout",
     "output_type": "stream",
     "text": [
      "['Are', 'you', 'afraid', 'of', 'the', 'dark']\n",
      "[' you', ' afraid', ' of', ' the', ' dark']\n"
     ]
    }
   ],
   "source": [
    "pattern_1 = re.compile(r'\\S[a-z]+')\n",
    "pattern_2 = re.compile(r'\\s[a-z]+')\n",
    "my_string = \"Are you afraid of the dark?\"\n",
    "found_dark = pattern_1.findall(my_string) # not white space\n",
    "found_space = pattern_2.findall(my_string) # yes whitespace\n",
    "\n",
    "print(found_dark)\n",
    "print(found_space)"
   ]
  },
  {
   "cell_type": "markdown",
   "metadata": {},
   "source": [
    "##### \\b - look for boundaries or edges of a word<br/>\\B - look for anything that isnt a boundary"
   ]
  },
  {
   "cell_type": "code",
   "execution_count": 51,
   "metadata": {},
   "outputs": [
    {
     "name": "stdout",
     "output_type": "stream",
     "text": [
      "[]\n",
      "['TheCodingTemple']\n"
     ]
    }
   ],
   "source": [
    "pattern_1 = re.compile(r'\\bTheCodingTemple\\b')\n",
    "pattern_2 = re.compile(r'\\BTheCodingTemple\\B')\n",
    "                       \n",
    "my_string = 'asffojdeoig:TheCodingTemple:ouewnvoernj'\n",
    "found_1 = pattern_1.findall(my_string)\n",
    "found_2 = pattern_2.findall(my_string)\n",
    "                       \n",
    "print(found_1)\n",
    "print(found_2)"
   ]
  },
  {
   "cell_type": "code",
   "execution_count": 52,
   "metadata": {},
   "outputs": [
    {
     "data": {
      "text/plain": [
       "['Hey', 'guys', 'check,', 'out,', 'this,', 'rad,', 'method']"
      ]
     },
     "execution_count": 52,
     "metadata": {},
     "output_type": "execute_result"
    }
   ],
   "source": [
    "my_string = \"Hey guys check, out, this, rad, method\"\n",
    "\n",
    "my_string.split()"
   ]
  },
  {
   "cell_type": "markdown",
   "metadata": {},
   "source": [
    "### Grouping"
   ]
  },
  {
   "cell_type": "code",
   "execution_count": 66,
   "metadata": {},
   "outputs": [
    {
     "name": "stdout",
     "output_type": "stream",
     "text": [
      "[('Max', 'Smith'), ('Sam', 'Darnold'), ('LeBron', 'James'), ('Micheal', 'Jordan'), ('Kevin', 'Durant'), ('Patrick', 'McCormick')]\n",
      "('Max', 'Smith')\n",
      "Smith\n",
      "this guys last name is: Smith\n",
      " this guys first name is Max\n",
      "No match found for aaron rodgers\n",
      "this guys last name is: Darnold\n",
      " this guys first name is Sam\n",
      "this guys last name is: James\n",
      " this guys first name is LeBron\n",
      "this guys last name is: Jordan\n",
      " this guys first name is Micheal\n",
      "this guys last name is: Durant\n",
      " this guys first name is Kevin\n",
      "this guys last name is: McCormick\n",
      " this guys first name is Patrick\n"
     ]
    }
   ],
   "source": [
    "my_string = \"Max Smith, aaron rodgers, Sam Darnold, LeBron James, Micheal Jordan, Kevin Durant, Patrick McCormick\"\n",
    "pattern = re.compile(r'([A-Z][\\w]+) ([A-Z][\\w]+)')\n",
    "found= pattern.findall(my_string)\n",
    "print(found)\n",
    "maxsmith = found[0]\n",
    "print(maxsmith)\n",
    "print(maxsmith[1])\n",
    "\n",
    "for name in my_string.split(', '):\n",
    "    match = pattern.search(name)\n",
    "    if match:\n",
    "        print(f'this guys last name is: {match.groups()[1]}\\n this guys first name is {match.groups()[0]}')\n",
    "    else:\n",
    "        print(f\"No match found for {name}\")\n",
    "        "
   ]
  },
  {
   "cell_type": "code",
   "execution_count": null,
   "metadata": {},
   "outputs": [],
   "source": []
  },
  {
   "cell_type": "markdown",
   "metadata": {},
   "source": [
    "##### In-class Exercise 2:\n",
    "\n",
    "Write a function using regular expressions to find the domain name in the given email addresses (and return None for the invalid email addresses)<br><b>HINT: Use '|' for either or</b>"
   ]
  },
  {
   "cell_type": "code",
   "execution_count": 20,
   "metadata": {},
   "outputs": [
    {
     "name": "stdout",
     "output_type": "stream",
     "text": [
      "jordanw@codingtemple.orgcom\n",
      "pocohontas1776@gmail.com\n",
      "None\n",
      "yourfavoriteband@g6.org\n",
      "None\n"
     ]
    }
   ],
   "source": [
    "my_emails = [\"jordanw@codingtemple.orgcom\", \"pocohontas1776@gmail.com\", \"helloworld@aol..com\",\n",
    "             \"yourfavoriteband@g6.org\", \"@codingtemple.com\"]\n",
    "\n",
    "# You can also use the $ at the end of your compile expression -- this stops the search\n",
    "\n",
    "#Expected output:\n",
    "#jordanw@codingtemple.orgcom\n",
    "#pocohontas1776@gmail.com\n",
    "#None\n",
    "#yourfavoriteband@g6.org\n",
    "#None\n",
    "pattern = re.compile(r'([a-zA-Z0-9]+)@([a-zA-Z0-9]+).([org|com])')\n",
    "\n",
    "for email in my_emails:\n",
    "    match = pattern.match(email)\n",
    "    if match:\n",
    "        print(email)\n",
    "    else:\n",
    "        print(\"None\")"
   ]
  },
  {
   "cell_type": "markdown",
   "metadata": {},
   "source": [
    "### Opening a File <br>\n",
    "<p>Python gives us a couple ways to import files, below are the two used most often.</p>"
   ]
  },
  {
   "cell_type": "markdown",
   "metadata": {},
   "source": [
    "##### open()"
   ]
  },
  {
   "cell_type": "code",
   "execution_count": 76,
   "metadata": {},
   "outputs": [
    {
     "name": "stdout",
     "output_type": "stream",
     "text": [
      "Hawkins, Derek\tderek@codingtemple.com\t(555) 555-5555\tTeacher, Coding Temple\t@derekhawkins\n",
      "Zhai, Mo\tmozhai@codingtemple.com\t(555) 555-5554\tTeacher, Coding Temple\n",
      "Johnson, Joe\tjoejohnson@codingtemple.com\t\tJohson, Joe\n",
      "Osterberg, Sven-Erik\tgovernor@norrbotten.co.se\t\tGovernor, Norrbotten\t@sverik\n",
      ", Tim\ttim@killerrabbit.com\t\tEnchanter, Killer Rabbit Cave\n",
      "Butz, Ryan\tryanb@codingtemple.com\t(555) 555-5543\tCEO, Coding Temple\t@ryanbutz\n",
      "Doctor, The\tdoctor+companion@tardis.co.uk\t\tTime Lord, Gallifrey\n",
      "Exampleson, Example\tme@example.com\t555-555-5552\tExample, Example Co.\t@example\n",
      "Pael, Ripal\tripalp@codingtemple.com\t(555) 555-5553\tTeacher, Coding Temple\t@ripalp\n",
      "Vader, Darth\tdarth-vader@empire.gov\t(555) 555-4444\tSith Lord, Galactic Empire\t@darthvader\n",
      "Fernandez de la Vega Sanz, Maria Teresa\tmtfvs@spain.gov\t\tFirst Deputy Prime Minister, Spanish Gov\n",
      "\n"
     ]
    }
   ],
   "source": [
    "# DONT DO IT THIS WAY\n",
    "file = open('./files/names.txt')\n",
    "data = file.read()\n",
    "print(data)\n",
    "file.close()"
   ]
  },
  {
   "cell_type": "markdown",
   "metadata": {},
   "source": [
    "##### with open()"
   ]
  },
  {
   "cell_type": "code",
   "execution_count": 82,
   "metadata": {},
   "outputs": [
    {
     "name": "stdout",
     "output_type": "stream",
     "text": [
      "Hawkins, Derek\tderek@codingtemple.com\t(555) 555-5555\tTeacher, Coding Temple\t@derekhawkins\n",
      "Zhai, Mo\tmozhai@codingtemple.com\t(555) 555-5554\tTeacher, Coding Temple\n",
      "Johnson, Joe\tjoejohnson@codingtemple.com\t\tJohson, Joe\n",
      "Osterberg, Sven-Erik\tgovernor@norrbotten.co.se\t\tGovernor, Norrbotten\t@sverik\n",
      ", Tim\ttim@killerrabbit.com\t\tEnchanter, Killer Rabbit Cave\n",
      "Butz, Ryan\tryanb@codingtemple.com\t(555) 555-5543\tCEO, Coding Temple\t@ryanbutz\n",
      "Doctor, The\tdoctor+companion@tardis.co.uk\t\tTime Lord, Gallifrey\n",
      "Exampleson, Example\tme@example.com\t555-555-5552\tExample, Example Co.\t@example\n",
      "Pael, Ripal\tripalp@codingtemple.com\t(555) 555-5553\tTeacher, Coding Temple\t@ripalp\n",
      "Vader, Darth\tdarth-vader@empire.gov\t(555) 555-4444\tSith Lord, Galactic Empire\t@darthvader\n",
      "Fernandez de la Vega Sanz, Maria Teresa\tmtfvs@spain.gov\t\tFirst Deputy Prime Minister, Spanish Gov\n",
      "\n"
     ]
    }
   ],
   "source": [
    "# DO IT THIS WAY!!!!\n",
    "with open('./files/names.txt') as file:\n",
    "    data = file.read()\n",
    "    print(data)"
   ]
  },
  {
   "cell_type": "code",
   "execution_count": 117,
   "metadata": {},
   "outputs": [
    {
     "name": "stdout",
     "output_type": "stream",
     "text": [
      "['Hawkins, Derek\\tderek@codingtemple.com\\t(555) 555-5555\\tTeacher, Coding Temple\\t@derekhawkins\\n', 'Zhai, Mo\\tmozhai@codingtemple.com\\t(555) 555-5554\\tTeacher, Coding Temple\\n', 'Johnson, Joe\\tjoejohnson@codingtemple.com\\t\\tJohson, Joe\\n', 'Osterberg, Sven-Erik\\tgovernor@norrbotten.co.se\\t\\tGovernor, Norrbotten\\t@sverik\\n', ', Tim\\ttim@killerrabbit.com\\t\\tEnchanter, Killer Rabbit Cave\\n', 'Butz, Ryan\\tryanb@codingtemple.com\\t(555) 555-5543\\tCEO, Coding Temple\\t@ryanbutz\\n', 'Doctor, The\\tdoctor+companion@tardis.co.uk\\t\\tTime Lord, Gallifrey\\n', 'Exampleson, Example\\tme@example.com\\t555-555-5552\\tExample, Example Co.\\t@example\\n', 'Pael, Ripal\\tripalp@codingtemple.com\\t(555) 555-5553\\tTeacher, Coding Temple\\t@ripalp\\n', 'Vader, Darth\\tdarth-vader@empire.gov\\t(555) 555-4444\\tSith Lord, Galactic Empire\\t@darthvader\\n', 'Fernandez de la Vega Sanz, Maria Teresa\\tmtfvs@spain.gov\\t\\tFirst Deputy Prime Minister, Spanish Gov\\n']\n",
      "Hawkins, Derek\tderek@codingtemple.com\t(555) 555-5555\tTeacher, Coding Temple\t@derekhawkins\n",
      "\n",
      "Zhai, Mo\tmozhai@codingtemple.com\t(555) 555-5554\tTeacher, Coding Temple\n",
      "\n",
      "Johnson, Joe\tjoejohnson@codingtemple.com\t\tJohson, Joe\n",
      "\n",
      "Osterberg, Sven-Erik\tgovernor@norrbotten.co.se\t\tGovernor, Norrbotten\t@sverik\n",
      "\n",
      ", Tim\ttim@killerrabbit.com\t\tEnchanter, Killer Rabbit Cave\n",
      "\n",
      "Butz, Ryan\tryanb@codingtemple.com\t(555) 555-5543\tCEO, Coding Temple\t@ryanbutz\n",
      "\n",
      "Doctor, The\tdoctor+companion@tardis.co.uk\t\tTime Lord, Gallifrey\n",
      "\n",
      "Exampleson, Example\tme@example.com\t555-555-5552\tExample, Example Co.\t@example\n",
      "\n",
      "Pael, Ripal\tripalp@codingtemple.com\t(555) 555-5553\tTeacher, Coding Temple\t@ripalp\n",
      "\n",
      "Vader, Darth\tdarth-vader@empire.gov\t(555) 555-4444\tSith Lord, Galactic Empire\t@darthvader\n",
      "\n",
      "Fernandez de la Vega Sanz, Maria Teresa\tmtfvs@spain.gov\t\tFirst Deputy Prime Minister, Spanish Gov\n",
      "\n"
     ]
    }
   ],
   "source": [
    "with open('./files/names.txt') as file:\n",
    "    file_by_line = (file.readlines())\n",
    "    data = file.read()\n",
    "    \n",
    "print(file_by_line)\n",
    "for line in file_by_line:\n",
    "    print(line)"
   ]
  },
  {
   "cell_type": "code",
   "execution_count": 103,
   "metadata": {},
   "outputs": [],
   "source": [
    "with open('./files/names.txt') as file:\n",
    "    data = file.read()"
   ]
  },
  {
   "cell_type": "markdown",
   "metadata": {},
   "source": [
    "##### re.match()"
   ]
  },
  {
   "cell_type": "code",
   "execution_count": 86,
   "metadata": {},
   "outputs": [
    {
     "name": "stdout",
     "output_type": "stream",
     "text": [
      "<re.Match object; span=(0, 14), match='Hawkins, Derek'>\n",
      "Hawkins, Derek\tderek@codingtemple.com\t(555) 555-5555\tTeacher, Coding Temple\t@derekhawkins\n",
      "Zhai, Mo\tmozhai@codingtemple.com\t(555) 555-5554\tTeacher, Coding Temple\n",
      "Johnson, Joe\tjoejohnson@codingtemple.com\t\tJohson, Joe\n",
      "Osterberg, Sven-Erik\tgovernor@norrbotten.co.se\t\tGovernor, Norrbotten\t@sverik\n",
      ", Tim\ttim@killerrabbit.com\t\tEnchanter, Killer Rabbit Cave\n",
      "Butz, Ryan\tryanb@codingtemple.com\t(555) 555-5543\tCEO, Coding Temple\t@ryanbutz\n",
      "Doctor, The\tdoctor+companion@tardis.co.uk\t\tTime Lord, Gallifrey\n",
      "Exampleson, Example\tme@example.com\t555-555-5552\tExample, Example Co.\t@example\n",
      "Pael, Ripal\tripalp@codingtemple.com\t(555) 555-5553\tTeacher, Coding Temple\t@ripalp\n",
      "Vader, Darth\tdarth-vader@empire.gov\t(555) 555-4444\tSith Lord, Galactic Empire\t@darthvader\n",
      "Fernandez de la Vega Sanz, Maria Teresa\tmtfvs@spain.gov\t\tFirst Deputy Prime Minister, Spanish Gov\n",
      "\n"
     ]
    },
    {
     "data": {
      "text/plain": [
       "'Hawkins, Derek'"
      ]
     },
     "execution_count": 86,
     "metadata": {},
     "output_type": "execute_result"
    }
   ],
   "source": [
    "print(re.match(\"Hawkins, Derek\", data))\n",
    "print(data)\n",
    "data[0:14]"
   ]
  },
  {
   "cell_type": "markdown",
   "metadata": {},
   "source": [
    "##### re.search()"
   ]
  },
  {
   "cell_type": "code",
   "execution_count": 89,
   "metadata": {},
   "outputs": [
    {
     "name": "stdout",
     "output_type": "stream",
     "text": [
      "<re.Match object; span=(582, 605), match='ripalp@codingtemple.com'>\n"
     ]
    },
    {
     "data": {
      "text/plain": [
       "'ripalp@codingtemple.com'"
      ]
     },
     "execution_count": 89,
     "metadata": {},
     "output_type": "execute_result"
    }
   ],
   "source": [
    "print(re.search(r'ripalp@codingtemple.com', data))\n",
    "data[582:605]"
   ]
  },
  {
   "cell_type": "markdown",
   "metadata": {},
   "source": [
    "##### Store the String to a Variable"
   ]
  },
  {
   "cell_type": "code",
   "execution_count": 90,
   "metadata": {},
   "outputs": [
    {
     "name": "stdout",
     "output_type": "stream",
     "text": [
      "What would you like to search for? \\t\n",
      " I found your data: ['\\t', '\\t', '\\t', '\\t', '\\t', '\\t', '\\t', '\\t', '\\t', '\\t', '\\t', '\\t', '\\t', '\\t', '\\t', '\\t', '\\t', '\\t', '\\t', '\\t', '\\t', '\\t', '\\t', '\\t', '\\t', '\\t', '\\t', '\\t', '\\t', '\\t', '\\t', '\\t', '\\t', '\\t', '\\t', '\\t', '\\t', '\\t', '\\t']\n"
     ]
    }
   ],
   "source": [
    "answer = input(\"What would you like to search for? \")\n",
    "found = re.findall(answer, data)\n",
    "if found:\n",
    "    print(f\" I found your data: {found}\")\n",
    "else:\n",
    "    print('it\\'s a no for me boss...')"
   ]
  },
  {
   "cell_type": "markdown",
   "metadata": {},
   "source": [
    "### In-Class Exercise #3 <br>\n",
    "<p>Print each persons name and twitter handle, using groups, should look like:</p>\n",
    "<p>==============<br>\n",
    "   Full Name / Twitter<br>\n",
    "   ==============</p>\n",
    "Derek Hawkins / @derekhawkins\n",
    "\n",
    " Erik Sven-Osterberg / @sverik\n",
    "\n",
    " Ryan Butz / @ryanbutz\n",
    "\n",
    " Example Exampleson / @example\n",
    "\n",
    " Ripal Pael / @ripalp\n",
    "\n",
    " Darth Vader / @darthvader"
   ]
  },
  {
   "cell_type": "code",
   "execution_count": 17,
   "metadata": {
    "scrolled": true
   },
   "outputs": [
    {
     "name": "stdout",
     "output_type": "stream",
     "text": [
      "Hawkins, Derek / @derekhawkins\n",
      "Osterberg, Sven / @sverik\n",
      "Butz, Ryan / @ryanbutz\n",
      "Exampleson, Example / @example\n",
      "Pael, Ripal / @ripalp\n",
      "Vader, Darth / @darthvader\n"
     ]
    }
   ],
   "source": [
    "with open('./files/names.txt') as file:\n",
    "    file_by_line = (file.readlines())\n",
    "    data = file.read()\n",
    "\n",
    "pattern1= re.compile(r'\\s@[a-zA-Z0-9]+')\n",
    "found1= pattern1.findall(data)\n",
    "\n",
    "pattern2 = re.compile(r'[A-Z][\\w]+, [A-Z][\\w]+')\n",
    "found2 = pattern2.findall(data)\n",
    "\n",
    "for line in file_by_line:\n",
    "    if pattern1.findall(line):\n",
    "        sentence_list = pattern2.findall(line) + pattern1.findall(line)\n",
    "        \n",
    "        print(f\"{sentence_list[0]} / {sentence_list[-1].strip()}\")"
   ]
  },
  {
   "cell_type": "markdown",
   "metadata": {},
   "source": [
    "### Regex project\n",
    "\n",
    "Use python to read the file regex_test.txt and print the last name on each line using regular expressions and groups (return None for names with no first and last name, or names that aren't properly capitalized)\n",
    "##### Hint: use with open() and readlines()"
   ]
  },
  {
   "cell_type": "code",
   "execution_count": 6,
   "metadata": {},
   "outputs": [
    {
     "data": {
      "text/plain": [
       "'\\nExpected Output\\nAbraham Lincoln\\nAndrew P Garfield\\nConnor Milliken\\nJordan Alexander Williams\\nNone\\nNone\\n'"
      ]
     },
     "execution_count": 6,
     "metadata": {},
     "output_type": "execute_result"
    }
   ],
   "source": [
    "\n",
    "\"\"\"\n",
    "Expected Output\n",
    "Abraham Lincoln\n",
    "Andrew P Garfield\n",
    "Connor Milliken\n",
    "Jordan Alexander Williams\n",
    "None\n",
    "None\n",
    "\"\"\""
   ]
  },
  {
   "cell_type": "code",
   "execution_count": 18,
   "metadata": {},
   "outputs": [
    {
     "name": "stdout",
     "output_type": "stream",
     "text": [
      "Lincoln\n",
      "Garfield\n",
      "Milliken\n",
      "Williams\n",
      "None\n",
      "None\n"
     ]
    }
   ],
   "source": [
    "# Did 2 solves for this project, the directions sounded a little different than the expected output\n",
    "\n",
    "import re\n",
    "\n",
    "with open('./files/regex-test.txt') as file:\n",
    "    regex_by_line = (file.readlines())\n",
    "        \n",
    "lastname_pattern = re.compile(r' [A-Z][\\w]+\\b')\n",
    "\n",
    "for line in regex_by_line:\n",
    "    if lastname_pattern.findall(line):\n",
    "        print((lastname_pattern.findall(line)[-1]).strip())\n",
    "    else:\n",
    "        print(\"None\")"
   ]
  },
  {
   "cell_type": "code",
   "execution_count": 19,
   "metadata": {},
   "outputs": [
    {
     "name": "stdout",
     "output_type": "stream",
     "text": [
      "Abraham Lincoln\n",
      "\n",
      "Andrew P Garfield\n",
      "\n",
      "Connor Milliken\n",
      "\n",
      "Jordan Alexander Williams\n",
      "\n",
      "None\n",
      "None\n"
     ]
    }
   ],
   "source": [
    "with open('./files/regex-test.txt') as file:\n",
    "    regex_by_line = (file.readlines())\n",
    "    \n",
    "lastname_pattern = re.compile(r' [A-Z][\\w]+\\b')\n",
    "for line in regex_by_line:\n",
    "    if lastname_pattern.findall(line):\n",
    "        print(line)\n",
    "    else:\n",
    "        print(\"None\")"
   ]
  }
 ],
 "metadata": {
  "kernelspec": {
   "display_name": "Python 3 (ipykernel)",
   "language": "python",
   "name": "python3"
  },
  "language_info": {
   "codemirror_mode": {
    "name": "ipython",
    "version": 3
   },
   "file_extension": ".py",
   "mimetype": "text/x-python",
   "name": "python",
   "nbconvert_exporter": "python",
   "pygments_lexer": "ipython3",
   "version": "3.9.7"
  }
 },
 "nbformat": 4,
 "nbformat_minor": 2
}
